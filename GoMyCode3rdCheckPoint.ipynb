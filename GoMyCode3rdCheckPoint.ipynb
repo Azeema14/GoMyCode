{
 "cells": [
  {
   "cell_type": "code",
   "execution_count": 5,
   "id": "67222d5f",
   "metadata": {},
   "outputs": [
    {
     "data": {
      "text/plain": [
       "36"
      ]
     },
     "execution_count": 5,
     "metadata": {},
     "output_type": "execute_result"
    }
   ],
   "source": [
    "### Question #1\n",
    "#Write a Python program that multiplies all the items in a list.\n",
    "\n",
    "ls = [2,3,6]\n",
    "def multiplier(lst):\n",
    "    result = 1\n",
    "    for i in lst:\n",
    "        result *= i\n",
    "    return result\n",
    "multiplier(ls)"
   ]
  },
  {
   "cell_type": "code",
   "execution_count": 11,
   "id": "14fbc3bf",
   "metadata": {},
   "outputs": [
    {
     "data": {
      "text/plain": [
       "[(2, 1), (1, 2), (2, 3), (4, 4), (2, 5)]"
      ]
     },
     "execution_count": 11,
     "metadata": {},
     "output_type": "execute_result"
    }
   ],
   "source": [
    "### Question #2\n",
    "### Write a Python program to get a list, sorted in increasing order by the last element in each tuple.\n",
    "\n",
    "ls = [(2, 5), (1, 2), (4, 4), (2, 3), (2, 1)]\n",
    "ls.sort(key = lambda x : x[-1])\n",
    "ls"
   ]
  },
  {
   "cell_type": "code",
   "execution_count": 12,
   "id": "36a74ad8",
   "metadata": {},
   "outputs": [
    {
     "name": "stdout",
     "output_type": "stream",
     "text": [
      "Combined dictionary: {'a': 400, 'b': 400, 'c': 300, 'd': 400}\n"
     ]
    }
   ],
   "source": [
    "### Question #3\n",
    "### Write a Python program that combines two dictionaries by adding values for common keys.\n",
    "def combine_dictionaries(dict1, dict2):\n",
    "    combined_dict = dict1.copy()\n",
    "    for key, value in dict2.items():\n",
    "        if key in combined_dict:\n",
    "            combined_dict[key] += value\n",
    "        else:\n",
    "            combined_dict[key] = value\n",
    "    return combined_dict\n",
    "\n",
    "d1 = {\"a\": 100, \"b\": 200, \"c\": 300}\n",
    "d2 = {\"a\": 300, \"b\": 200, \"d\": 400}\n",
    "combined_dict = combine_dictionaries(d1, d2)\n",
    "print(\"Combined dictionary:\", combined_dict)"
   ]
  },
  {
   "cell_type": "code",
   "execution_count": 13,
   "id": "a7068cf3",
   "metadata": {},
   "outputs": [],
   "source": [
    "### Question #4\n",
    "### With a given integral number n, write a program to generate a dictionary that contains (i, i*i)\n",
    "### so that is an integral number between 1 and n (both included)."
   ]
  },
  {
   "cell_type": "code",
   "execution_count": 28,
   "id": "a5e91709",
   "metadata": {},
   "outputs": [
    {
     "data": {
      "text/plain": [
       "{1: 1, 2: 4, 3: 9, 4: 16, 5: 25}"
      ]
     },
     "execution_count": 28,
     "metadata": {},
     "output_type": "execute_result"
    }
   ],
   "source": [
    "def fun(n):\n",
    "    my_dict = {}\n",
    "    for i in range(n+1):\n",
    "        if i >= 1:\n",
    "            my_dict.update({i : i*i})\n",
    "    return my_dict\n",
    "fun(5)"
   ]
  },
  {
   "cell_type": "code",
   "execution_count": 31,
   "id": "29eed74b",
   "metadata": {},
   "outputs": [
    {
     "data": {
      "text/plain": [
       "[('item3', '24.5'), ('item2', '15.10'), ('item1', '12.20')]"
      ]
     },
     "execution_count": 31,
     "metadata": {},
     "output_type": "execute_result"
    }
   ],
   "source": [
    "### Question #5\n",
    "### Write a program to sort a tuple by its float element.\n",
    "ls = [('item1', '12.20'), ('item2', '15.10'), ('item3', '24.5')]\n",
    "def sort_tuple(lst):\n",
    "    sorted_list = sorted(lst, key=lambda x: float(x[1]), reverse=True)\n",
    "    return sorted_list\n",
    "sort_tuple(ls)"
   ]
  },
  {
   "cell_type": "code",
   "execution_count": 34,
   "id": "91b7a65d",
   "metadata": {},
   "outputs": [
    {
     "data": {
      "text/plain": [
       "{0, 1, 2, 3, 4, 5, 6, 7, 8}"
      ]
     },
     "execution_count": 34,
     "metadata": {},
     "output_type": "execute_result"
    }
   ],
   "source": [
    "### Question 6\n",
    "### Write a Python program to create a set.\n",
    "def my_func(n):\n",
    "    my_set = {1,2,3,4}\n",
    "    for i in range(n):\n",
    "        my_set.add(i)\n",
    "    return my_set\n",
    "\n",
    "my_func(9)"
   ]
  }
 ],
 "metadata": {
  "kernelspec": {
   "display_name": "Python 3 (ipykernel)",
   "language": "python",
   "name": "python3"
  },
  "language_info": {
   "codemirror_mode": {
    "name": "ipython",
    "version": 3
   },
   "file_extension": ".py",
   "mimetype": "text/x-python",
   "name": "python",
   "nbconvert_exporter": "python",
   "pygments_lexer": "ipython3",
   "version": "3.9.12"
  }
 },
 "nbformat": 4,
 "nbformat_minor": 5
}
