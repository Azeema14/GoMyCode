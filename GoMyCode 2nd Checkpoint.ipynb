{
 "cells": [
  {
   "cell_type": "code",
   "execution_count": 2,
   "id": "90255805",
   "metadata": {},
   "outputs": [],
   "source": [
    "import random"
   ]
  },
  {
   "cell_type": "code",
   "execution_count": 15,
   "id": "6a7eeec7",
   "metadata": {
    "scrolled": true
   },
   "outputs": [
    {
     "name": "stdout",
     "output_type": "stream",
     "text": [
      "Guess a number: 0\n",
      "Your guess is too low. Guess again\n",
      "Guess a number: 50\n",
      "Your guess is too low. Guess again\n",
      "Guess a number: 90\n",
      "Your guess is too high. Guess again\n",
      "Guess a number: 82\n",
      "Your guess is too high. Guess again\n",
      "Guess a number: 80\n",
      "Your guess is too high. Guess again\n",
      "Guess a number: 79\n",
      "Your guess is too high. Guess again\n",
      "Guess a number: 77\n",
      "Your guess is too high. Guess again\n",
      "Guess a number: 75\n",
      "Your guess is too high. Guess again\n",
      "Guess a number: 70\n",
      "Your guess is too high. Guess again\n",
      "Guess a number: 60\n",
      "Your guess is too low. Guess again\n",
      "Guess a number: 62\n",
      "Your guess is too low. Guess again\n",
      "Guess a number: 63\n",
      "Your guess is too low. Guess again\n",
      "Guess a number: 64\n",
      "Your guess is too low. Guess again\n",
      "Guess a number: 65\n",
      "Your guess is too low. Guess again\n",
      "Guess a number: 66\n",
      "Congratulations! You guessed the number correctly!\n"
     ]
    }
   ],
   "source": [
    "n = random.randint(1,100)\n",
    "G = int(input('Guess a number: '))\n",
    "while G != n:\n",
    "    if G > n:\n",
    "        print('Your guess is too high. Guess again')\n",
    "        G = int(input('Guess a number: '))\n",
    "    elif G < n:\n",
    "        print('Your guess is too low. Guess again')\n",
    "        G = int(input('Guess a number: '))\n",
    "print('Congratulations! You guessed the number correctly!')"
   ]
  },
  {
   "cell_type": "code",
   "execution_count": 14,
   "id": "19fcf7ca",
   "metadata": {},
   "outputs": [
    {
     "data": {
      "text/plain": [
       "82"
      ]
     },
     "execution_count": 14,
     "metadata": {},
     "output_type": "execute_result"
    }
   ],
   "source": [
    "n"
   ]
  }
 ],
 "metadata": {
  "kernelspec": {
   "display_name": "Python 3 (ipykernel)",
   "language": "python",
   "name": "python3"
  },
  "language_info": {
   "codemirror_mode": {
    "name": "ipython",
    "version": 3
   },
   "file_extension": ".py",
   "mimetype": "text/x-python",
   "name": "python",
   "nbconvert_exporter": "python",
   "pygments_lexer": "ipython3",
   "version": "3.9.12"
  }
 },
 "nbformat": 4,
 "nbformat_minor": 5
}
